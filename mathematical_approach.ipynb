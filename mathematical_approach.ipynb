{
 "cells": [
  {
   "cell_type": "markdown",
   "metadata": {},
   "source": [
    "## Math"
   ]
  },
  {
   "cell_type": "markdown",
   "metadata": {},
   "source": [
    "$$ <f> = {1\\over b-a}.\\int\\limits_{a}^{b}f(x)dx $$\n",
    "$$ (b-a).<f> = \\int\\limits_{a}^{b}f(x)dx $$\n",
    "$$ (b-a).{1\\over N} \\sum_{i}^{}f(x_{i})\\approx \\int_{a}^{b} f(x)dx $$\n",
    "$$ \\int_{0}^{\\pi} sin(x)dx = 2 $$"
   ]
  },
  {
   "cell_type": "markdown",
   "metadata": {},
   "source": [
    "<h2 align='center'> How close to that can we get to answer? </h2>"
   ]
  },
  {
   "cell_type": "markdown",
   "metadata": {},
   "source": [
    "## Import Libraries"
   ]
  },
  {
   "cell_type": "code",
   "execution_count": 2,
   "metadata": {},
   "outputs": [],
   "source": [
    "import numpy as np\n",
    "from scipy import random\n",
    "\n",
    "%matplotlib inline\n",
    "import matplotlib.pyplot as plt"
   ]
  },
  {
   "cell_type": "markdown",
   "metadata": {},
   "source": [
    "## Define Variables"
   ]
  },
  {
   "cell_type": "code",
   "execution_count": 3,
   "metadata": {},
   "outputs": [],
   "source": [
    "a = 0\n",
    "b = np.pi  # limits of integration\n",
    "N = 1000\n",
    "\n",
    "x_rand = random.uniform(a, b, N)"
   ]
  },
  {
   "cell_type": "markdown",
   "metadata": {},
   "source": [
    "## Define Sin Function"
   ]
  },
  {
   "cell_type": "code",
   "execution_count": 4,
   "metadata": {},
   "outputs": [],
   "source": [
    "def f(x):\n",
    "    return np.sin(x)"
   ]
  },
  {
   "cell_type": "markdown",
   "metadata": {},
   "source": [
    "## Calculatin Integral"
   ]
  },
  {
   "cell_type": "code",
   "execution_count": 5,
   "metadata": {},
   "outputs": [
    {
     "name": "stdout",
     "output_type": "stream",
     "text": [
      "The integral from 0 to pi of sin(x):  1.9894937141200564\n"
     ]
    }
   ],
   "source": [
    "integral = 0.0\n",
    "for i in range(N):\n",
    "    integral += f(x_rand[i])\n",
    "\n",
    "answer = (b-a) / float(N)*integral\n",
    "print('The integral from 0 to pi of sin(x): ', answer)"
   ]
  },
  {
   "cell_type": "markdown",
   "metadata": {},
   "source": [
    "## Visualization"
   ]
  },
  {
   "cell_type": "code",
   "execution_count": 13,
   "metadata": {},
   "outputs": [
    {
     "data": {
      "text/plain": [
       "Text(0.5, 0, 'Areas')"
      ]
     },
     "execution_count": 13,
     "metadata": {},
     "output_type": "execute_result"
    },
    {
     "data": {
      "image/png": "[encoded data removed]",
      "text/plain": [
       "<Figure size 432x288 with 1 Axes>"
      ]
     },
     "metadata": {
      "needs_background": "light"
     },
     "output_type": "display_data"
    }
   ],
   "source": [
    "areas = []\n",
    "for i in range(N):\n",
    "    xrand = np.zeros(N)\n",
    "\n",
    "    for i in range(len(x_rand)):\n",
    "        x_rand[i] = random.uniform(a, b)\n",
    "        integral = 0.0\n",
    "    \n",
    "    for i in range(N):\n",
    "        integral += f(x_rand[i])\n",
    "\n",
    "    answer = (b-a) / float(N)*integral\n",
    "    areas.append(answer)\n",
    "\n",
    "plt.title('Distribution of Areas Calculated', fontweight='bold')\n",
    "plt.hist(areas, bins=30, color='lightgreen', ec='green')\n",
    "plt.xlabel('Areas')\n"
   ]
  }
 ],
 "metadata": {
  "kernelspec": {
   "display_name": "Python 3.8.13 ('datascience')",
   "language": "python",
   "name": "python3"
  },
  "language_info": {
   "codemirror_mode": {
    "name": "ipython",
    "version": 3
   },
   "file_extension": ".py",
   "mimetype": "text/x-python",
   "name": "python",
   "nbconvert_exporter": "python",
   "pygments_lexer": "ipython3",
   "version": "3.8.13"
  },
  "orig_nbformat": 4,
  "vscode": {
   "interpreter": {
    "hash": "d0b1c89e816016841cedf5fdbe32ca3459ea5d941d32dcd15ad8b1c504d281f6"
   }
  }
 },
 "nbformat": 4,
 "nbformat_minor": 2
}
